{
 "cells": [
  {
   "cell_type": "code",
   "execution_count": 5,
   "metadata": {},
   "outputs": [
    {
     "name": "stdout",
     "output_type": "stream",
     "text": [
      "['False', 'None', 'True', 'and', 'as', 'assert', 'async', 'await', 'break', 'class', 'continue', 'def', 'del', 'elif', 'else', 'except', 'finally', 'for', 'from', 'global', 'if', 'import', 'in', 'is', 'lambda', 'nonlocal', 'not', 'or', 'pass', 'raise', 'return', 'try', 'while', 'with', 'yield']\n"
     ]
    }
   ],
   "source": [
    "import keyword\n",
    "print(keyword.kwlist)"
   ]
  },
  {
   "cell_type": "code",
   "execution_count": 6,
   "metadata": {},
   "outputs": [
    {
     "name": "stdout",
     "output_type": "stream",
     "text": [
      "<class 'int'>\n",
      "<class 'int'>\n"
     ]
    }
   ],
   "source": [
    "# O que é uma variável\n",
    "\n",
    "\"\"\"\n",
    "E um espaço reservado na memoria do computador\n",
    "O padrao para variavel e o snake_case\n",
    "A variavel nao poder ser declarada com nome de palavra \n",
    "\n",
    "tipo: dinamica e forte\n",
    "\"\"\"\n",
    "x=10\n",
    "print(type(x))\n",
    "y=3\n",
    "print(type(y))"
   ]
  },
  {
   "cell_type": "code",
   "execution_count": 7,
   "metadata": {},
   "outputs": [],
   "source": [
    "# barra de chocolate\n",
    "# 5 partes\n",
    "# 1 parte\n",
    "# 1/5 - numerador 1 . denominador - 5"
   ]
  },
  {
   "cell_type": "code",
   "execution_count": 8,
   "metadata": {},
   "outputs": [
    {
     "data": {
      "text/plain": [
       "'\\nqual é a sua altura?\\nqual é o seu peso?\\nqual é o seu IMC?\\n\\nfunçoes (mundo é baseado em funçoes)\\n- IMC = peso/altura²\\n'"
      ]
     },
     "execution_count": 8,
     "metadata": {},
     "output_type": "execute_result"
    }
   ],
   "source": [
    "# exercicio - revisao\n",
    "\"\"\"\n",
    "qual é a sua altura?\n",
    "qual é o seu peso?\n",
    "qual é o seu IMC?\n",
    "\n",
    "funçoes (mundo é baseado em funçoes)\n",
    "- IMC = peso/altura²\n",
    "\"\"\"\n"
   ]
  },
  {
   "cell_type": "markdown",
   "metadata": {},
   "source": [
    "# função normal\n",
    "def calcular_imc(peso,altura):\n",
    "    return peso / pow altura,2\n",
    "\n",
    "    # função lambda para calcular o IMC\n",
    "    calcular_imc = lambda peso, altura: peso / pow(altura,2)\n"
   ]
  },
  {
   "cell_type": "code",
   "execution_count": 9,
   "metadata": {},
   "outputs": [
    {
     "name": "stdout",
     "output_type": "stream",
     "text": [
      "Seu imc: 20.0, Está com peso normal\n"
     ]
    }
   ],
   "source": [
    "# Exercicio - Revisão\n",
    "\n",
    "\"\"\"\n",
    "    Qual é a sua altura?\n",
    "    Qual o seu peso?\n",
    "    Qual o seu IMC?\n",
    "    \n",
    "    Funções\n",
    "        IMC = peso/altura²\n",
    "\"\"\"\n",
    "\n",
    "peso = input(\"Digite o seu peso: \").replace(',', '.')\n",
    "peso = float(peso)\n",
    "\n",
    "altura = input(\"Digite a sua altura: \").replace(',', '.')\n",
    "altura = float(altura)\n",
    "\n",
    "# Calculando o IMC\n",
    "imc = peso / (altura ** 2)\n",
    "\n",
    "# Exibindo a classificação do IMC\n",
    "if imc < 17:\n",
    "    print(f\"Seu imc: {imc}, Está com anorexia\")\n",
    "elif 17 <= imc < 18.49:\n",
    "    print(f\"Seu imc: {imc}, Está com baixo peso\")\n",
    "elif 18.5 <= imc < 24.99:\n",
    "    print(f\"Seu imc: {imc}, Está com peso normal\")\n",
    "elif 25 <= imc < 29.99:\n",
    "    print(f\"Seu imc: {imc}, Está com sobrepeso\")\n",
    "elif 30 <= imc < 34.99:\n",
    "    print(f\"Seu imc: {imc}, Está com obesidade grau I\")\n",
    "elif 35 <= imc < 39.99:\n",
    "    print(f\"Seu imc: {imc}, Está com obesidade grau II\")\n",
    "else:\n",
    "    print(f\"Seu imc: {imc}, Está com obesidade grau III\")\n"
   ]
  },
  {
   "cell_type": "markdown",
   "metadata": {},
   "source": [
    "- Visualizar a imigração de Brasileiros de dados (Data Visualização)"
   ]
  },
  {
   "cell_type": "markdown",
   "metadata": {},
   "source": []
  },
  {
   "cell_type": "code",
   "execution_count": 10,
   "metadata": {},
   "outputs": [
    {
     "name": "stdout",
     "output_type": "stream",
     "text": [
      "Requirement already satisfied: pandas in c:\\users\\ead\\documents\\maria alice\\.venv\\lib\\site-packages (2.2.2)\n",
      "Requirement already satisfied: numpy>=1.26.0 in c:\\users\\ead\\documents\\maria alice\\.venv\\lib\\site-packages (from pandas) (2.1.0)\n",
      "Requirement already satisfied: python-dateutil>=2.8.2 in c:\\users\\ead\\documents\\maria alice\\.venv\\lib\\site-packages (from pandas) (2.9.0.post0)\n",
      "Requirement already satisfied: pytz>=2020.1 in c:\\users\\ead\\documents\\maria alice\\.venv\\lib\\site-packages (from pandas) (2024.1)\n",
      "Requirement already satisfied: tzdata>=2022.7 in c:\\users\\ead\\documents\\maria alice\\.venv\\lib\\site-packages (from pandas) (2024.1)\n",
      "Requirement already satisfied: six>=1.5 in c:\\users\\ead\\documents\\maria alice\\.venv\\lib\\site-packages (from python-dateutil>=2.8.2->pandas) (1.16.0)\n"
     ]
    }
   ],
   "source": [
    "! pip install pandas"
   ]
  },
  {
   "cell_type": "code",
   "execution_count": 11,
   "metadata": {},
   "outputs": [],
   "source": [
    "import pandas as pd"
   ]
  },
  {
   "cell_type": "code",
   "execution_count": 12,
   "metadata": {},
   "outputs": [
    {
     "data": {
      "text/html": [
       "<div>\n",
       "<style scoped>\n",
       "    .dataframe tbody tr th:only-of-type {\n",
       "        vertical-align: middle;\n",
       "    }\n",
       "\n",
       "    .dataframe tbody tr th {\n",
       "        vertical-align: top;\n",
       "    }\n",
       "\n",
       "    .dataframe thead th {\n",
       "        text-align: right;\n",
       "    }\n",
       "</style>\n",
       "<table border=\"1\" class=\"dataframe\">\n",
       "  <thead>\n",
       "    <tr style=\"text-align: right;\">\n",
       "      <th></th>\n",
       "      <th>País</th>\n",
       "      <th>Continente</th>\n",
       "      <th>Região</th>\n",
       "      <th>1980</th>\n",
       "      <th>1981</th>\n",
       "      <th>1982</th>\n",
       "      <th>1983</th>\n",
       "      <th>1984</th>\n",
       "      <th>1985</th>\n",
       "      <th>1986</th>\n",
       "      <th>...</th>\n",
       "      <th>2005</th>\n",
       "      <th>2006</th>\n",
       "      <th>2007</th>\n",
       "      <th>2008</th>\n",
       "      <th>2009</th>\n",
       "      <th>2010</th>\n",
       "      <th>2011</th>\n",
       "      <th>2012</th>\n",
       "      <th>2013</th>\n",
       "      <th>Total</th>\n",
       "    </tr>\n",
       "  </thead>\n",
       "  <tbody>\n",
       "    <tr>\n",
       "      <th>0</th>\n",
       "      <td>Afeganistão</td>\n",
       "      <td>Ásia</td>\n",
       "      <td>Sul da Ásia</td>\n",
       "      <td>16</td>\n",
       "      <td>39</td>\n",
       "      <td>39</td>\n",
       "      <td>47</td>\n",
       "      <td>71</td>\n",
       "      <td>340</td>\n",
       "      <td>496</td>\n",
       "      <td>...</td>\n",
       "      <td>3436</td>\n",
       "      <td>3009</td>\n",
       "      <td>2652</td>\n",
       "      <td>2111</td>\n",
       "      <td>1746</td>\n",
       "      <td>1758</td>\n",
       "      <td>2203</td>\n",
       "      <td>2635</td>\n",
       "      <td>2004</td>\n",
       "      <td>58639</td>\n",
       "    </tr>\n",
       "    <tr>\n",
       "      <th>1</th>\n",
       "      <td>Albânia</td>\n",
       "      <td>Europa</td>\n",
       "      <td>Sul da Europa</td>\n",
       "      <td>1</td>\n",
       "      <td>0</td>\n",
       "      <td>0</td>\n",
       "      <td>0</td>\n",
       "      <td>0</td>\n",
       "      <td>0</td>\n",
       "      <td>1</td>\n",
       "      <td>...</td>\n",
       "      <td>1223</td>\n",
       "      <td>856</td>\n",
       "      <td>702</td>\n",
       "      <td>560</td>\n",
       "      <td>716</td>\n",
       "      <td>561</td>\n",
       "      <td>539</td>\n",
       "      <td>620</td>\n",
       "      <td>603</td>\n",
       "      <td>15699</td>\n",
       "    </tr>\n",
       "    <tr>\n",
       "      <th>2</th>\n",
       "      <td>Argélia</td>\n",
       "      <td>África</td>\n",
       "      <td>Norte da África</td>\n",
       "      <td>80</td>\n",
       "      <td>67</td>\n",
       "      <td>71</td>\n",
       "      <td>69</td>\n",
       "      <td>63</td>\n",
       "      <td>44</td>\n",
       "      <td>69</td>\n",
       "      <td>...</td>\n",
       "      <td>3626</td>\n",
       "      <td>4807</td>\n",
       "      <td>3623</td>\n",
       "      <td>4005</td>\n",
       "      <td>5393</td>\n",
       "      <td>4752</td>\n",
       "      <td>4325</td>\n",
       "      <td>3774</td>\n",
       "      <td>4331</td>\n",
       "      <td>69439</td>\n",
       "    </tr>\n",
       "    <tr>\n",
       "      <th>3</th>\n",
       "      <td>Samoa Americana</td>\n",
       "      <td>Oceânia</td>\n",
       "      <td>Polinésia</td>\n",
       "      <td>0</td>\n",
       "      <td>1</td>\n",
       "      <td>0</td>\n",
       "      <td>0</td>\n",
       "      <td>0</td>\n",
       "      <td>0</td>\n",
       "      <td>0</td>\n",
       "      <td>...</td>\n",
       "      <td>0</td>\n",
       "      <td>1</td>\n",
       "      <td>0</td>\n",
       "      <td>0</td>\n",
       "      <td>0</td>\n",
       "      <td>0</td>\n",
       "      <td>0</td>\n",
       "      <td>0</td>\n",
       "      <td>0</td>\n",
       "      <td>6</td>\n",
       "    </tr>\n",
       "    <tr>\n",
       "      <th>4</th>\n",
       "      <td>Andorra</td>\n",
       "      <td>Europa</td>\n",
       "      <td>Sul da Europa</td>\n",
       "      <td>0</td>\n",
       "      <td>0</td>\n",
       "      <td>0</td>\n",
       "      <td>0</td>\n",
       "      <td>0</td>\n",
       "      <td>0</td>\n",
       "      <td>2</td>\n",
       "      <td>...</td>\n",
       "      <td>0</td>\n",
       "      <td>1</td>\n",
       "      <td>1</td>\n",
       "      <td>0</td>\n",
       "      <td>0</td>\n",
       "      <td>0</td>\n",
       "      <td>0</td>\n",
       "      <td>1</td>\n",
       "      <td>1</td>\n",
       "      <td>15</td>\n",
       "    </tr>\n",
       "    <tr>\n",
       "      <th>...</th>\n",
       "      <td>...</td>\n",
       "      <td>...</td>\n",
       "      <td>...</td>\n",
       "      <td>...</td>\n",
       "      <td>...</td>\n",
       "      <td>...</td>\n",
       "      <td>...</td>\n",
       "      <td>...</td>\n",
       "      <td>...</td>\n",
       "      <td>...</td>\n",
       "      <td>...</td>\n",
       "      <td>...</td>\n",
       "      <td>...</td>\n",
       "      <td>...</td>\n",
       "      <td>...</td>\n",
       "      <td>...</td>\n",
       "      <td>...</td>\n",
       "      <td>...</td>\n",
       "      <td>...</td>\n",
       "      <td>...</td>\n",
       "      <td>...</td>\n",
       "    </tr>\n",
       "    <tr>\n",
       "      <th>190</th>\n",
       "      <td>Vietnã</td>\n",
       "      <td>Ásia</td>\n",
       "      <td>Sudeste Asiático</td>\n",
       "      <td>1191</td>\n",
       "      <td>1829</td>\n",
       "      <td>2162</td>\n",
       "      <td>3404</td>\n",
       "      <td>7583</td>\n",
       "      <td>5907</td>\n",
       "      <td>2741</td>\n",
       "      <td>...</td>\n",
       "      <td>1852</td>\n",
       "      <td>3153</td>\n",
       "      <td>2574</td>\n",
       "      <td>1784</td>\n",
       "      <td>2171</td>\n",
       "      <td>1942</td>\n",
       "      <td>1723</td>\n",
       "      <td>1731</td>\n",
       "      <td>2112</td>\n",
       "      <td>97146</td>\n",
       "    </tr>\n",
       "    <tr>\n",
       "      <th>191</th>\n",
       "      <td>Saara Ocidental</td>\n",
       "      <td>África</td>\n",
       "      <td>Norte da África</td>\n",
       "      <td>0</td>\n",
       "      <td>0</td>\n",
       "      <td>0</td>\n",
       "      <td>0</td>\n",
       "      <td>0</td>\n",
       "      <td>0</td>\n",
       "      <td>0</td>\n",
       "      <td>...</td>\n",
       "      <td>0</td>\n",
       "      <td>1</td>\n",
       "      <td>0</td>\n",
       "      <td>0</td>\n",
       "      <td>0</td>\n",
       "      <td>0</td>\n",
       "      <td>0</td>\n",
       "      <td>0</td>\n",
       "      <td>0</td>\n",
       "      <td>2</td>\n",
       "    </tr>\n",
       "    <tr>\n",
       "      <th>192</th>\n",
       "      <td>Iémen</td>\n",
       "      <td>Ásia</td>\n",
       "      <td>Ásia Ocidental</td>\n",
       "      <td>1</td>\n",
       "      <td>2</td>\n",
       "      <td>1</td>\n",
       "      <td>6</td>\n",
       "      <td>0</td>\n",
       "      <td>18</td>\n",
       "      <td>7</td>\n",
       "      <td>...</td>\n",
       "      <td>161</td>\n",
       "      <td>140</td>\n",
       "      <td>122</td>\n",
       "      <td>133</td>\n",
       "      <td>128</td>\n",
       "      <td>211</td>\n",
       "      <td>160</td>\n",
       "      <td>174</td>\n",
       "      <td>217</td>\n",
       "      <td>2985</td>\n",
       "    </tr>\n",
       "    <tr>\n",
       "      <th>193</th>\n",
       "      <td>Zâmbia</td>\n",
       "      <td>África</td>\n",
       "      <td>África Oriental</td>\n",
       "      <td>11</td>\n",
       "      <td>17</td>\n",
       "      <td>11</td>\n",
       "      <td>7</td>\n",
       "      <td>16</td>\n",
       "      <td>9</td>\n",
       "      <td>15</td>\n",
       "      <td>...</td>\n",
       "      <td>91</td>\n",
       "      <td>77</td>\n",
       "      <td>71</td>\n",
       "      <td>64</td>\n",
       "      <td>60</td>\n",
       "      <td>102</td>\n",
       "      <td>69</td>\n",
       "      <td>46</td>\n",
       "      <td>59</td>\n",
       "      <td>1677</td>\n",
       "    </tr>\n",
       "    <tr>\n",
       "      <th>194</th>\n",
       "      <td>Zimbábue</td>\n",
       "      <td>África</td>\n",
       "      <td>África Oriental</td>\n",
       "      <td>72</td>\n",
       "      <td>114</td>\n",
       "      <td>102</td>\n",
       "      <td>44</td>\n",
       "      <td>32</td>\n",
       "      <td>29</td>\n",
       "      <td>43</td>\n",
       "      <td>...</td>\n",
       "      <td>615</td>\n",
       "      <td>454</td>\n",
       "      <td>663</td>\n",
       "      <td>611</td>\n",
       "      <td>508</td>\n",
       "      <td>494</td>\n",
       "      <td>434</td>\n",
       "      <td>437</td>\n",
       "      <td>407</td>\n",
       "      <td>8598</td>\n",
       "    </tr>\n",
       "  </tbody>\n",
       "</table>\n",
       "<p>195 rows × 38 columns</p>\n",
       "</div>"
      ],
      "text/plain": [
       "                País Continente            Região  1980  1981  1982  1983  \\\n",
       "0        Afeganistão       Ásia       Sul da Ásia    16    39    39    47   \n",
       "1            Albânia     Europa     Sul da Europa     1     0     0     0   \n",
       "2            Argélia     África   Norte da África    80    67    71    69   \n",
       "3    Samoa Americana    Oceânia         Polinésia     0     1     0     0   \n",
       "4            Andorra     Europa     Sul da Europa     0     0     0     0   \n",
       "..               ...        ...               ...   ...   ...   ...   ...   \n",
       "190           Vietnã       Ásia  Sudeste Asiático  1191  1829  2162  3404   \n",
       "191  Saara Ocidental     África   Norte da África     0     0     0     0   \n",
       "192            Iémen       Ásia    Ásia Ocidental     1     2     1     6   \n",
       "193           Zâmbia     África   África Oriental    11    17    11     7   \n",
       "194         Zimbábue     África   África Oriental    72   114   102    44   \n",
       "\n",
       "     1984  1985  1986  ...  2005  2006  2007  2008  2009  2010  2011  2012  \\\n",
       "0      71   340   496  ...  3436  3009  2652  2111  1746  1758  2203  2635   \n",
       "1       0     0     1  ...  1223   856   702   560   716   561   539   620   \n",
       "2      63    44    69  ...  3626  4807  3623  4005  5393  4752  4325  3774   \n",
       "3       0     0     0  ...     0     1     0     0     0     0     0     0   \n",
       "4       0     0     2  ...     0     1     1     0     0     0     0     1   \n",
       "..    ...   ...   ...  ...   ...   ...   ...   ...   ...   ...   ...   ...   \n",
       "190  7583  5907  2741  ...  1852  3153  2574  1784  2171  1942  1723  1731   \n",
       "191     0     0     0  ...     0     1     0     0     0     0     0     0   \n",
       "192     0    18     7  ...   161   140   122   133   128   211   160   174   \n",
       "193    16     9    15  ...    91    77    71    64    60   102    69    46   \n",
       "194    32    29    43  ...   615   454   663   611   508   494   434   437   \n",
       "\n",
       "     2013  Total  \n",
       "0    2004  58639  \n",
       "1     603  15699  \n",
       "2    4331  69439  \n",
       "3       0      6  \n",
       "4       1     15  \n",
       "..    ...    ...  \n",
       "190  2112  97146  \n",
       "191     0      2  \n",
       "192   217   2985  \n",
       "193    59   1677  \n",
       "194   407   8598  \n",
       "\n",
       "[195 rows x 38 columns]"
      ]
     },
     "execution_count": 12,
     "metadata": {},
     "output_type": "execute_result"
    }
   ],
   "source": [
    "df = pd.read_csv('datasets/imigrantes_canada.csv')\n",
    "df"
   ]
  },
  {
   "cell_type": "code",
   "execution_count": 13,
   "metadata": {},
   "outputs": [
    {
     "name": "stdout",
     "output_type": "stream",
     "text": [
      "<class 'pandas.core.frame.DataFrame'>\n",
      "RangeIndex: 195 entries, 0 to 194\n",
      "Data columns (total 38 columns):\n",
      " #   Column      Non-Null Count  Dtype \n",
      "---  ------      --------------  ----- \n",
      " 0   País        195 non-null    object\n",
      " 1   Continente  195 non-null    object\n",
      " 2   Região      195 non-null    object\n",
      " 3   1980        195 non-null    int64 \n",
      " 4   1981        195 non-null    int64 \n",
      " 5   1982        195 non-null    int64 \n",
      " 6   1983        195 non-null    int64 \n",
      " 7   1984        195 non-null    int64 \n",
      " 8   1985        195 non-null    int64 \n",
      " 9   1986        195 non-null    int64 \n",
      " 10  1987        195 non-null    int64 \n",
      " 11  1988        195 non-null    int64 \n",
      " 12  1989        195 non-null    int64 \n",
      " 13  1990        195 non-null    int64 \n",
      " 14  1991        195 non-null    int64 \n",
      " 15  1992        195 non-null    int64 \n",
      " 16  1993        195 non-null    int64 \n",
      " 17  1994        195 non-null    int64 \n",
      " 18  1995        195 non-null    int64 \n",
      " 19  1996        195 non-null    int64 \n",
      " 20  1997        195 non-null    int64 \n",
      " 21  1998        195 non-null    int64 \n",
      " 22  1999        195 non-null    int64 \n",
      " 23  2000        195 non-null    int64 \n",
      " 24  2001        195 non-null    int64 \n",
      " 25  2002        195 non-null    int64 \n",
      " 26  2003        195 non-null    int64 \n",
      " 27  2004        195 non-null    int64 \n",
      " 28  2005        195 non-null    int64 \n",
      " 29  2006        195 non-null    int64 \n",
      " 30  2007        195 non-null    int64 \n",
      " 31  2008        195 non-null    int64 \n",
      " 32  2009        195 non-null    int64 \n",
      " 33  2010        195 non-null    int64 \n",
      " 34  2011        195 non-null    int64 \n",
      " 35  2012        195 non-null    int64 \n",
      " 36  2013        195 non-null    int64 \n",
      " 37  Total       195 non-null    int64 \n",
      "dtypes: int64(35), object(3)\n",
      "memory usage: 58.0+ KB\n"
     ]
    }
   ],
   "source": [
    "df.info()"
   ]
  },
  {
   "cell_type": "markdown",
   "metadata": {},
   "source": [
    "coluna \"Pais'"
   ]
  },
  {
   "cell_type": "code",
   "execution_count": 14,
   "metadata": {},
   "outputs": [
    {
     "data": {
      "text/plain": [
       "0          Afeganistão\n",
       "1              Albânia\n",
       "2              Argélia\n",
       "3      Samoa Americana\n",
       "4              Andorra\n",
       "            ...       \n",
       "190             Vietnã\n",
       "191    Saara Ocidental\n",
       "192              Iémen\n",
       "193             Zâmbia\n",
       "194           Zimbábue\n",
       "Name: País, Length: 195, dtype: object"
      ]
     },
     "execution_count": 14,
     "metadata": {},
     "output_type": "execute_result"
    }
   ],
   "source": [
    "df['País']"
   ]
  },
  {
   "cell_type": "code",
   "execution_count": 15,
   "metadata": {},
   "outputs": [],
   "source": [
    "df.set_index('País',inplace=True)"
   ]
  },
  {
   "cell_type": "code",
   "execution_count": 16,
   "metadata": {},
   "outputs": [],
   "source": [
    "anos = list()"
   ]
  },
  {
   "cell_type": "code",
   "execution_count": 17,
   "metadata": {},
   "outputs": [],
   "source": [
    "anos = list(map(str,range(1980,2014)))"
   ]
  },
  {
   "cell_type": "code",
   "execution_count": 18,
   "metadata": {},
   "outputs": [
    {
     "data": {
      "text/plain": [
       "['1980',\n",
       " '1981',\n",
       " '1982',\n",
       " '1983',\n",
       " '1984',\n",
       " '1985',\n",
       " '1986',\n",
       " '1987',\n",
       " '1988',\n",
       " '1989',\n",
       " '1990',\n",
       " '1991',\n",
       " '1992',\n",
       " '1993',\n",
       " '1994',\n",
       " '1995',\n",
       " '1996',\n",
       " '1997',\n",
       " '1998',\n",
       " '1999',\n",
       " '2000',\n",
       " '2001',\n",
       " '2002',\n",
       " '2003',\n",
       " '2004',\n",
       " '2005',\n",
       " '2006',\n",
       " '2007',\n",
       " '2008',\n",
       " '2009',\n",
       " '2010',\n",
       " '2011',\n",
       " '2012',\n",
       " '2013']"
      ]
     },
     "execution_count": 18,
     "metadata": {},
     "output_type": "execute_result"
    }
   ],
   "source": [
    "anos"
   ]
  },
  {
   "cell_type": "code",
   "execution_count": 19,
   "metadata": {},
   "outputs": [],
   "source": [
    "brasil = df.loc['Brasil',anos]"
   ]
  },
  {
   "cell_type": "code",
   "execution_count": 20,
   "metadata": {},
   "outputs": [
    {
     "data": {
      "text/plain": [
       "1980     211\n",
       "1981     220\n",
       "1982     192\n",
       "1983     139\n",
       "1984     145\n",
       "1985     130\n",
       "1986     205\n",
       "1987     244\n",
       "1988     394\n",
       "1989     650\n",
       "1990     650\n",
       "1991     877\n",
       "1992    1066\n",
       "1993     866\n",
       "1994     566\n",
       "1995     572\n",
       "1996     586\n",
       "1997     591\n",
       "1998     531\n",
       "1999     626\n",
       "2000     845\n",
       "2001     847\n",
       "2002     745\n",
       "2003     839\n",
       "2004     917\n",
       "2005     969\n",
       "2006    1181\n",
       "2007    1746\n",
       "2008    2138\n",
       "2009    2509\n",
       "2010    2598\n",
       "2011    1508\n",
       "2012    1642\n",
       "2013    1714\n",
       "Name: Brasil, dtype: object"
      ]
     },
     "execution_count": 20,
     "metadata": {},
     "output_type": "execute_result"
    }
   ],
   "source": [
    "brasil"
   ]
  },
  {
   "cell_type": "code",
   "execution_count": 21,
   "metadata": {},
   "outputs": [
    {
     "name": "stdout",
     "output_type": "stream",
     "text": [
      "<class 'pandas.core.series.Series'>\n"
     ]
    }
   ],
   "source": [
    "print(type(brasil))"
   ]
  },
  {
   "cell_type": "markdown",
   "metadata": {},
   "source": [
    "# pandas = series e dataframes\n",
    "# list, tuple. dict\n",
    "# list, tuple. discionarie,list"
   ]
  },
  {
   "cell_type": "code",
   "execution_count": 22,
   "metadata": {},
   "outputs": [],
   "source": [
    "brasil_dict = {'chave':'valor'}\n"
   ]
  },
  {
   "cell_type": "code",
   "execution_count": 23,
   "metadata": {},
   "outputs": [],
   "source": [
    "brasil_dict = {'ano':brasil.index.tolist(),'imigrantes':brasil.values.tolist()}"
   ]
  },
  {
   "cell_type": "code",
   "execution_count": 24,
   "metadata": {},
   "outputs": [],
   "source": [
    "dados_brasil = pd.DataFrame(brasil_dict)"
   ]
  },
  {
   "cell_type": "code",
   "execution_count": 25,
   "metadata": {},
   "outputs": [
    {
     "data": {
      "text/html": [
       "<div>\n",
       "<style scoped>\n",
       "    .dataframe tbody tr th:only-of-type {\n",
       "        vertical-align: middle;\n",
       "    }\n",
       "\n",
       "    .dataframe tbody tr th {\n",
       "        vertical-align: top;\n",
       "    }\n",
       "\n",
       "    .dataframe thead th {\n",
       "        text-align: right;\n",
       "    }\n",
       "</style>\n",
       "<table border=\"1\" class=\"dataframe\">\n",
       "  <thead>\n",
       "    <tr style=\"text-align: right;\">\n",
       "      <th></th>\n",
       "      <th>ano</th>\n",
       "      <th>imigrantes</th>\n",
       "    </tr>\n",
       "  </thead>\n",
       "  <tbody>\n",
       "    <tr>\n",
       "      <th>0</th>\n",
       "      <td>1980</td>\n",
       "      <td>211</td>\n",
       "    </tr>\n",
       "    <tr>\n",
       "      <th>1</th>\n",
       "      <td>1981</td>\n",
       "      <td>220</td>\n",
       "    </tr>\n",
       "    <tr>\n",
       "      <th>2</th>\n",
       "      <td>1982</td>\n",
       "      <td>192</td>\n",
       "    </tr>\n",
       "    <tr>\n",
       "      <th>3</th>\n",
       "      <td>1983</td>\n",
       "      <td>139</td>\n",
       "    </tr>\n",
       "    <tr>\n",
       "      <th>4</th>\n",
       "      <td>1984</td>\n",
       "      <td>145</td>\n",
       "    </tr>\n",
       "    <tr>\n",
       "      <th>5</th>\n",
       "      <td>1985</td>\n",
       "      <td>130</td>\n",
       "    </tr>\n",
       "    <tr>\n",
       "      <th>6</th>\n",
       "      <td>1986</td>\n",
       "      <td>205</td>\n",
       "    </tr>\n",
       "    <tr>\n",
       "      <th>7</th>\n",
       "      <td>1987</td>\n",
       "      <td>244</td>\n",
       "    </tr>\n",
       "    <tr>\n",
       "      <th>8</th>\n",
       "      <td>1988</td>\n",
       "      <td>394</td>\n",
       "    </tr>\n",
       "    <tr>\n",
       "      <th>9</th>\n",
       "      <td>1989</td>\n",
       "      <td>650</td>\n",
       "    </tr>\n",
       "    <tr>\n",
       "      <th>10</th>\n",
       "      <td>1990</td>\n",
       "      <td>650</td>\n",
       "    </tr>\n",
       "    <tr>\n",
       "      <th>11</th>\n",
       "      <td>1991</td>\n",
       "      <td>877</td>\n",
       "    </tr>\n",
       "    <tr>\n",
       "      <th>12</th>\n",
       "      <td>1992</td>\n",
       "      <td>1066</td>\n",
       "    </tr>\n",
       "    <tr>\n",
       "      <th>13</th>\n",
       "      <td>1993</td>\n",
       "      <td>866</td>\n",
       "    </tr>\n",
       "    <tr>\n",
       "      <th>14</th>\n",
       "      <td>1994</td>\n",
       "      <td>566</td>\n",
       "    </tr>\n",
       "    <tr>\n",
       "      <th>15</th>\n",
       "      <td>1995</td>\n",
       "      <td>572</td>\n",
       "    </tr>\n",
       "    <tr>\n",
       "      <th>16</th>\n",
       "      <td>1996</td>\n",
       "      <td>586</td>\n",
       "    </tr>\n",
       "    <tr>\n",
       "      <th>17</th>\n",
       "      <td>1997</td>\n",
       "      <td>591</td>\n",
       "    </tr>\n",
       "    <tr>\n",
       "      <th>18</th>\n",
       "      <td>1998</td>\n",
       "      <td>531</td>\n",
       "    </tr>\n",
       "    <tr>\n",
       "      <th>19</th>\n",
       "      <td>1999</td>\n",
       "      <td>626</td>\n",
       "    </tr>\n",
       "    <tr>\n",
       "      <th>20</th>\n",
       "      <td>2000</td>\n",
       "      <td>845</td>\n",
       "    </tr>\n",
       "    <tr>\n",
       "      <th>21</th>\n",
       "      <td>2001</td>\n",
       "      <td>847</td>\n",
       "    </tr>\n",
       "    <tr>\n",
       "      <th>22</th>\n",
       "      <td>2002</td>\n",
       "      <td>745</td>\n",
       "    </tr>\n",
       "    <tr>\n",
       "      <th>23</th>\n",
       "      <td>2003</td>\n",
       "      <td>839</td>\n",
       "    </tr>\n",
       "    <tr>\n",
       "      <th>24</th>\n",
       "      <td>2004</td>\n",
       "      <td>917</td>\n",
       "    </tr>\n",
       "    <tr>\n",
       "      <th>25</th>\n",
       "      <td>2005</td>\n",
       "      <td>969</td>\n",
       "    </tr>\n",
       "    <tr>\n",
       "      <th>26</th>\n",
       "      <td>2006</td>\n",
       "      <td>1181</td>\n",
       "    </tr>\n",
       "    <tr>\n",
       "      <th>27</th>\n",
       "      <td>2007</td>\n",
       "      <td>1746</td>\n",
       "    </tr>\n",
       "    <tr>\n",
       "      <th>28</th>\n",
       "      <td>2008</td>\n",
       "      <td>2138</td>\n",
       "    </tr>\n",
       "    <tr>\n",
       "      <th>29</th>\n",
       "      <td>2009</td>\n",
       "      <td>2509</td>\n",
       "    </tr>\n",
       "    <tr>\n",
       "      <th>30</th>\n",
       "      <td>2010</td>\n",
       "      <td>2598</td>\n",
       "    </tr>\n",
       "    <tr>\n",
       "      <th>31</th>\n",
       "      <td>2011</td>\n",
       "      <td>1508</td>\n",
       "    </tr>\n",
       "    <tr>\n",
       "      <th>32</th>\n",
       "      <td>2012</td>\n",
       "      <td>1642</td>\n",
       "    </tr>\n",
       "    <tr>\n",
       "      <th>33</th>\n",
       "      <td>2013</td>\n",
       "      <td>1714</td>\n",
       "    </tr>\n",
       "  </tbody>\n",
       "</table>\n",
       "</div>"
      ],
      "text/plain": [
       "     ano  imigrantes\n",
       "0   1980         211\n",
       "1   1981         220\n",
       "2   1982         192\n",
       "3   1983         139\n",
       "4   1984         145\n",
       "5   1985         130\n",
       "6   1986         205\n",
       "7   1987         244\n",
       "8   1988         394\n",
       "9   1989         650\n",
       "10  1990         650\n",
       "11  1991         877\n",
       "12  1992        1066\n",
       "13  1993         866\n",
       "14  1994         566\n",
       "15  1995         572\n",
       "16  1996         586\n",
       "17  1997         591\n",
       "18  1998         531\n",
       "19  1999         626\n",
       "20  2000         845\n",
       "21  2001         847\n",
       "22  2002         745\n",
       "23  2003         839\n",
       "24  2004         917\n",
       "25  2005         969\n",
       "26  2006        1181\n",
       "27  2007        1746\n",
       "28  2008        2138\n",
       "29  2009        2509\n",
       "30  2010        2598\n",
       "31  2011        1508\n",
       "32  2012        1642\n",
       "33  2013        1714"
      ]
     },
     "execution_count": 25,
     "metadata": {},
     "output_type": "execute_result"
    }
   ],
   "source": [
    "dados_brasil"
   ]
  },
  {
   "cell_type": "markdown",
   "metadata": {},
   "source": [
    "Gráfico de linha"
   ]
  },
  {
   "cell_type": "code",
   "execution_count": 26,
   "metadata": {},
   "outputs": [
    {
     "name": "stdout",
     "output_type": "stream",
     "text": [
      "Requirement already satisfied: matplotlib in c:\\users\\ead\\documents\\maria alice\\.venv\\lib\\site-packages (3.9.2)\n",
      "Requirement already satisfied: contourpy>=1.0.1 in c:\\users\\ead\\documents\\maria alice\\.venv\\lib\\site-packages (from matplotlib) (1.3.0)\n",
      "Requirement already satisfied: cycler>=0.10 in c:\\users\\ead\\documents\\maria alice\\.venv\\lib\\site-packages (from matplotlib) (0.12.1)\n",
      "Requirement already satisfied: fonttools>=4.22.0 in c:\\users\\ead\\documents\\maria alice\\.venv\\lib\\site-packages (from matplotlib) (4.53.1)\n",
      "Requirement already satisfied: kiwisolver>=1.3.1 in c:\\users\\ead\\documents\\maria alice\\.venv\\lib\\site-packages (from matplotlib) (1.4.5)\n",
      "Requirement already satisfied: numpy>=1.23 in c:\\users\\ead\\documents\\maria alice\\.venv\\lib\\site-packages (from matplotlib) (2.1.0)\n",
      "Requirement already satisfied: packaging>=20.0 in c:\\users\\ead\\documents\\maria alice\\.venv\\lib\\site-packages (from matplotlib) (24.1)\n",
      "Requirement already satisfied: pillow>=8 in c:\\users\\ead\\documents\\maria alice\\.venv\\lib\\site-packages (from matplotlib) (10.4.0)\n",
      "Requirement already satisfied: pyparsing>=2.3.1 in c:\\users\\ead\\documents\\maria alice\\.venv\\lib\\site-packages (from matplotlib) (3.1.4)\n",
      "Requirement already satisfied: python-dateutil>=2.7 in c:\\users\\ead\\documents\\maria alice\\.venv\\lib\\site-packages (from matplotlib) (2.9.0.post0)\n",
      "Requirement already satisfied: six>=1.5 in c:\\users\\ead\\documents\\maria alice\\.venv\\lib\\site-packages (from python-dateutil>=2.7->matplotlib) (1.16.0)\n"
     ]
    }
   ],
   "source": [
    "! pip install matplotlib"
   ]
  },
  {
   "cell_type": "code",
   "execution_count": 27,
   "metadata": {},
   "outputs": [],
   "source": [
    "import matplotlib.pyplot as plt"
   ]
  },
  {
   "cell_type": "code",
   "execution_count": 28,
   "metadata": {},
   "outputs": [
    {
     "data": {
      "image/png": "[encoded data removed]",
      "text/plain": [
       "<Figure size 640x480 with 1 Axes>"
      ]
     },
     "metadata": {},
     "output_type": "display_data"
    }
   ],
   "source": [
    "plt.plot(dados_brasil['ano'],dados_brasil['imigrantes'])\n",
    "plt.xticks(['1980','1985','1990','1995','2000','2005','2010'])\n",
    "plt.yticks([500,1000,1500,2500,3000])\n",
    "plt.grid()\n",
    "plt.show()"
   ]
  },
  {
   "cell_type": "markdown",
   "metadata": {},
   "source": [
    "# amanhã : 28/08 transformando o grafico em figura "
   ]
  },
  {
   "cell_type": "markdown",
   "metadata": {},
   "source": []
  },
  {
   "cell_type": "code",
   "execution_count": 32,
   "metadata": {},
   "outputs": [
    {
     "data": {
      "image/png": "[encoded data removed]",
      "text/plain": [
       "<Figure size 800x400 with 1 Axes>"
      ]
     },
     "metadata": {},
     "output_type": "display_data"
    }
   ],
   "source": [
    "plt.figure(figsize=(8,4))\n",
    "# 1 polegada = 2.54 cm\n",
    "# largura 8 = 20,32 cm\n",
    "# altura 4 = 10.16 cm\n",
    "# DPI 9dots per inch, ou pontos por polegada).\n",
    "# Padrão no matplotlib DPI = 180\n",
    "# Largura: 8 polegadas x 100 DPI = 400 pixels.\n",
    "# Altura: 4 polegadas x 100 DPI = 400 pixels. \n",
    "\n",
    "plt.plot(dados_brasil['ano'],dados_brasil['imigrantes'])\n",
    "plt.xticks(['1980','1985','1990','1995','2000','2005','2010'])\n",
    "plt.yticks([500,1000,1500,2500,3000])\n",
    "plt.grid()\n",
    "plt.title(\"Imigração do brasil para o canada\")\n",
    "plt.xlabel(\"Ano\")\n",
    "plt.ylabel(\"Número de imigrantes\")\n",
    "plt.show()"
   ]
  },
  {
   "cell_type": "code",
   "execution_count": 44,
   "metadata": {},
   "outputs": [
    {
     "data": {
      "image/png": "[encoded data removed]",
      "text/plain": [
       "<Figure size 1500x500 with 2 Axes>"
      ]
     },
     "metadata": {},
     "output_type": "display_data"
    }
   ],
   "source": [
    "# criar uma figura\n",
    "\n",
    "fig, axs = plt.subplots(nrows=1, ncols=2, figsize=(15, 5))\n",
    "\n",
    "# Subplot 1. Gráfico de linha\n",
    "axs[0].plot(dados_brasil['ano'], dados_brasil['imigrantes'], marker='o')\n",
    "axs[0].set_title(\"Imigração do Brasil para o Canadá\")\n",
    "axs[0].xaxis.set_major_locator(plt.MultipleLocator(5))\n",
    "axs[0].set_xlabel(\"Ano\")\n",
    "axs[0].set_ylabel(\"Número de Imigrantes\")\n",
    "\n",
    "# Subplot 2. Gráfico Boxplot\n",
    "axs[1].boxplot(dados_brasil['imigrantes'])\n",
    "axs[1].set_title(\"Boxplot da Imigração do Brasil para o Canadá\")\n",
    "axs[1].set_xlabel(\"Brasil\")\n",
    "axs[1].set_ylabel(\"Número de Imigrantes\")\n",
    "\n",
    "plt.tight_layout()\n",
    "plt.show()"
   ]
  },
  {
   "cell_type": "code",
   "execution_count": 45,
   "metadata": {},
   "outputs": [
    {
     "data": {
      "text/plain": [
       "1980     368\n",
       "1981     426\n",
       "1982     626\n",
       "1983     241\n",
       "1984     237\n",
       "1985     196\n",
       "1986     213\n",
       "1987     519\n",
       "1988     374\n",
       "1989     538\n",
       "1990     678\n",
       "1991     763\n",
       "1992    1023\n",
       "1993    1022\n",
       "1994     366\n",
       "1995     380\n",
       "1996     396\n",
       "1997     391\n",
       "1998     349\n",
       "1999     318\n",
       "2000     427\n",
       "2001     635\n",
       "2002     865\n",
       "2003    1745\n",
       "2004    1591\n",
       "2005    1153\n",
       "2006     847\n",
       "2007     620\n",
       "2008     540\n",
       "2009     467\n",
       "2010     459\n",
       "2011     278\n",
       "2012     263\n",
       "2013     282\n",
       "Name: Argentina, dtype: object"
      ]
     },
     "execution_count": 45,
     "metadata": {},
     "output_type": "execute_result"
    }
   ],
   "source": [
    "argentina = df.loc['Argentina', anos]\n",
    "argentina"
   ]
  },
  {
   "cell_type": "markdown",
   "metadata": {},
   "source": [
    "# Comparativo de imigração do Brasil com alguns países da America Latina"
   ]
  },
  {
   "cell_type": "code",
   "execution_count": 50,
   "metadata": {},
   "outputs": [
    {
     "data": {
      "text/plain": [
       "1980     368\n",
       "1981     426\n",
       "1982     626\n",
       "1983     241\n",
       "1984     237\n",
       "1985     196\n",
       "1986     213\n",
       "1987     519\n",
       "1988     374\n",
       "1989     538\n",
       "1990     678\n",
       "1991     763\n",
       "1992    1023\n",
       "1993    1022\n",
       "1994     366\n",
       "1995     380\n",
       "1996     396\n",
       "1997     391\n",
       "1998     349\n",
       "1999     318\n",
       "2000     427\n",
       "2001     635\n",
       "2002     865\n",
       "2003    1745\n",
       "2004    1591\n",
       "2005    1153\n",
       "2006     847\n",
       "2007     620\n",
       "2008     540\n",
       "2009     467\n",
       "2010     459\n",
       "2011     278\n",
       "2012     263\n",
       "2013     282\n",
       "Name: Argentina, dtype: object"
      ]
     },
     "execution_count": 50,
     "metadata": {},
     "output_type": "execute_result"
    }
   ],
   "source": [
    "argentina = df.loc['Argentina', anos]\n",
    "argentina"
   ]
  },
  {
   "cell_type": "code",
   "execution_count": 57,
   "metadata": {},
   "outputs": [
    {
     "data": {
      "image/png": "[encoded data removed]",
      "text/plain": [
       "<Figure size 1000x600 with 4 Axes>"
      ]
     },
     "metadata": {},
     "output_type": "display_data"
    }
   ],
   "source": [
    "# criar uma figura\n",
    "\n",
    "fig, axs = plt.subplots(2, 2, figsize=(10, 6))\n",
    "\n",
    "# Ajusta o espaçamento entre subplots\n",
    "plt.subplots_adjust(hspace=0.5, wspace=0.3)\n",
    "\n",
    "# Plots\n",
    "# Brasil\n",
    "axs[0, 0].plot(df.loc['Brasil', anos])\n",
    "axs[0, 0].set_title('Brasil')\n",
    "\n",
    "# Colômbia\n",
    "axs[0, 1].plot(df.loc['Colômbia', anos])\n",
    "axs[0, 1].set_title('Colômbia')\n",
    "\n",
    "# Argentina\n",
    "axs[1, 0].plot(df.loc['Argentina', anos])\n",
    "axs[1, 0].set_title('Argentina')\n",
    "\n",
    "# Peru\n",
    "axs[1, 1].plot(df.loc['Peru', anos])\n",
    "axs[1, 1].set_title('Peru')\n",
    "\n",
    "# flat simplifica esse processo ao \"Achatar\"\n",
    "# a matriz bidimencional em uma unica sequencia de eixos.\n",
    "\n",
    "for ax in asx.flat:\n",
    "    ax.xaxis.set_major_locator(plt.Multiplelocator(5))\n",
    "\n",
    "# Exibe o gráfico\n",
    "plt.show()\n"
   ]
  }
 ],
 "metadata": {
  "kernelspec": {
   "display_name": "venv",
   "language": "python",
   "name": "python3"
  },
  "language_info": {
   "codemirror_mode": {
    "name": "ipython",
    "version": 3
   },
   "file_extension": ".py",
   "mimetype": "text/x-python",
   "name": "python",
   "nbconvert_exporter": "python",
   "pygments_lexer": "ipython3",
   "version": "3.12.5"
  }
 },
 "nbformat": 4,
 "nbformat_minor": 2
}
