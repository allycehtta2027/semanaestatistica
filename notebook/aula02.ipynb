{
 "cells": [
  {
   "cell_type": "code",
   "execution_count": null,
   "metadata": {},
   "outputs": [],
   "source": [
    "# Inteligência Artificial"
   ]
  },
  {
   "cell_type": "markdown",
   "metadata": {},
   "source": [
    " Imitação do humano\n",
    "- Ajudar o ser humano na produtividade\n",
    "- Imitar a inteligência humana e seus sentidos\n",
    "- Reconhecer padrões e resolver problemas "
   ]
  },
  {
   "cell_type": "markdown",
   "metadata": {},
   "source": [
    " # Machine Learning\n",
    "\n",
    "- Supervisionado: dados rotulados\n",
    "- Não supervisionado: sem dados rotulados"
   ]
  },
  {
   "cell_type": "markdown",
   "metadata": {},
   "source": [
    "# Deep Learning\n",
    "\n",
    "- A diferença ele possui redes neurais"
   ]
  },
  {
   "cell_type": "markdown",
   "metadata": {},
   "source": [
    "O que você pode fazer:"
   ]
  },
  {
   "cell_type": "markdown",
   "metadata": {},
   "source": [
    " 1 - Transformar texto em aúdio (falar)."
   ]
  },
  {
   "cell_type": "markdown",
   "metadata": {},
   "source": [
    "2 - Identificar e comparar imagens e objetos (ver)"
   ]
  },
  {
   "cell_type": "markdown",
   "metadata": {},
   "source": [
    " 3 - Aplicar a física (raio cósmicos): modelos que encapsulam funções - velocidade de processamento e entendimento da função."
   ]
  },
  {
   "cell_type": "markdown",
   "metadata": {},
   "source": [
    "4 - Engenharia Civil encapsula funções "
   ]
  },
  {
   "cell_type": "markdown",
   "metadata": {},
   "source": [
    " 5 - Midias sociais - estão te ouvindo para oferecer um produto."
   ]
  },
  {
   "cell_type": "markdown",
   "metadata": {},
   "source": [
    "6 - Polic\n",
    "\n",
    "        viés: restrições \n",
    "        variância: flexibilidade\n",
    "        Underfitting\n",
    "        Overfitting"
   ]
  },
  {
   "cell_type": "markdown",
   "metadata": {},
   "source": []
  }
 ],
 "metadata": {
  "language_info": {
   "name": "python"
  }
 },
 "nbformat": 4,
 "nbformat_minor": 2
}
