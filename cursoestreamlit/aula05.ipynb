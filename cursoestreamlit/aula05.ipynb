{
 "cells": [
  {
   "cell_type": "markdown",
   "metadata": {},
   "source": [
    "# Projeto Final\n",
    "\n",
    "\n",
    "Qual o problema?\n",
    "\n",
    "    - A precificação de imóveis é necessária para atender clientes, corretores e imobiliárias, Diversas variáveis podem ser correlacionadas para estimar o preço. \n",
    "    - Deve-se criar hipoteses e inferências a partir de gráficos.\n",
    "    - A partir dos gráficos podemos ter Insights.\n",
    "    - A partir dos Insights vou definir algoritmos para treinar modelos."
   ]
  },
  {
   "cell_type": "code",
   "execution_count": null,
   "metadata": {
    "vscode": {
     "languageId": "plaintext"
    }
   },
   "outputs": [],
   "source": [
    "import pandas as pd\n",
    "from sklearn.model_selection import train_test_split\n",
    "from sklearn.linear_model import LinearRegression\n",
    "import matplotlib.pyplot as plt\n",
    "\n",
    "# Carregar dados\n",
    "data = pd.read_csv('imoveis.csv')\n",
    "\n",
    "# Análise exploratória\n",
    "plt.scatter(data['metragem'], data['preco'])\n",
    "plt.xlabel('Metragem')\n",
    "plt.ylabel('Preço')\n",
    "plt.show()\n",
    "\n",
    "# Definir variáveis\n",
    "X = data[['metragem', 'quartos', 'ano_construcao']]\n",
    "y = data['preco']\n",
    "\n",
    "# Dividir dados\n",
    "X_train, X_test, y_train, y_test = train_test_split(X, y, test_size=0.2, random_state=42)\n",
    "\n",
    "# Treinar modelo\n",
    "model = LinearRegression()\n",
    "model.fit(X_train, y_train)\n",
    "\n",
    "# Avaliar modelo\n",
    "print(model.score(X_test, y_test))\n"
   ]
  }
 ],
 "metadata": {
  "language_info": {
   "name": "python"
  }
 },
 "nbformat": 4,
 "nbformat_minor": 2
}
